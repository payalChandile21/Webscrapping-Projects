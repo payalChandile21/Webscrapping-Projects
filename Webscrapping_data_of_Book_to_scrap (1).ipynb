{
  "nbformat": 4,
  "nbformat_minor": 0,
  "metadata": {
    "colab": {
      "provenance": []
    },
    "kernelspec": {
      "name": "python3",
      "display_name": "Python 3"
    },
    "language_info": {
      "name": "python"
    }
  },
  "cells": [
    {
      "cell_type": "code",
      "execution_count": null,
      "metadata": {
        "colab": {
          "base_uri": "https://localhost:8080/"
        },
        "id": "UbY1ea9QuDh5",
        "outputId": "34290758-f110-4652-923f-b692ee8f8f5f"
      },
      "outputs": [
        {
          "output_type": "stream",
          "name": "stdout",
          "text": [
            "Data exported to book_data.csv\n"
          ]
        }
      ],
      "source": [
        "import requests\n",
        "from bs4 import BeautifulSoup\n",
        "import csv\n",
        "\n",
        "# URL of the website to scrape\n",
        "url = \"https://books.toscrape.com/\"\n",
        "\n",
        "# Send a GET request to the URL\n",
        "response = requests.get(url)\n",
        "\n",
        "# Parse the HTML content using BeautifulSoup\n",
        "soup = BeautifulSoup(response.content, 'html.parser')\n",
        "\n",
        "# Find and extract data for all books\n",
        "book_data = []\n",
        "product_containers = soup.find_all('h3')  # Each book is inside an h3 tag\n",
        "for container in product_containers:\n",
        "    # Extract book title\n",
        "    book_title = container.a.attrs['title']\n",
        "\n",
        "    # Extract book price\n",
        "    price_container = container.find_next('p', class_='price_color')\n",
        "    book_price = price_container.text.strip()\n",
        "\n",
        "    # Extract book URL\n",
        "    book_url = url + container.a.attrs['href']\n",
        "\n",
        "    book_data.append([book_title, book_price, book_url])\n",
        "\n",
        "# Export data to CSV\n",
        "csv_filename = \"book_data.csv\"\n",
        "with open(csv_filename, 'w', newline='', encoding='utf-8') as csvfile:\n",
        "    csv_writer = csv.writer(csvfile)\n",
        "    csv_writer.writerow([\"Book Title\", \"Book Price\", \"Book URL\"])\n",
        "    csv_writer.writerows(book_data)\n",
        "\n",
        "print(\"Data exported to\", csv_filename)\n"
      ]
    },
    {
      "cell_type": "code",
      "source": [
        "import requests\n",
        "from bs4 import BeautifulSoup\n",
        "\n",
        "# Send a GET request to the website\n",
        "url = \"https://books.toscrape.com/\"\n",
        "response = requests.get(url)\n",
        "soup = BeautifulSoup(response.content, 'html.parser')\n",
        "\n",
        "# Find all book titles\n",
        "titles = soup.find_all('h3')\n",
        "\n",
        "# Extract and print the titles\n",
        "for title in titles:\n",
        "    print(title.text.strip())\n"
      ],
      "metadata": {
        "colab": {
          "base_uri": "https://localhost:8080/"
        },
        "id": "0N0Gs_aZubtb",
        "outputId": "6790e032-881e-4e84-93d2-9b8ad9bb17b8"
      },
      "execution_count": null,
      "outputs": [
        {
          "output_type": "stream",
          "name": "stdout",
          "text": [
            "A Light in the ...\n",
            "Tipping the Velvet\n",
            "Soumission\n",
            "Sharp Objects\n",
            "Sapiens: A Brief History ...\n",
            "The Requiem Red\n",
            "The Dirty Little Secrets ...\n",
            "The Coming Woman: A ...\n",
            "The Boys in the ...\n",
            "The Black Maria\n",
            "Starving Hearts (Triangular Trade ...\n",
            "Shakespeare's Sonnets\n",
            "Set Me Free\n",
            "Scott Pilgrim's Precious Little ...\n",
            "Rip it Up and ...\n",
            "Our Band Could Be ...\n",
            "Olio\n",
            "Mesaerion: The Best Science ...\n",
            "Libertarianism for Beginners\n",
            "It's Only the Himalayas\n"
          ]
        }
      ]
    },
    {
      "cell_type": "code",
      "source": [
        "import requests\n",
        "from bs4 import BeautifulSoup\n",
        "\n",
        "# Send a GET request to the website\n",
        "url = \"https://books.toscrape.com/\"\n",
        "response = requests.get(url)\n",
        "soup = BeautifulSoup(response.content, 'html.parser')\n",
        "\n",
        "# Find all book titles and links\n",
        "books = soup.find_all('h3')\n",
        "for book in books:\n",
        "    title = book.a.attrs['title']\n",
        "    link = book.a['href']\n",
        "    full_link = f\"https://books.toscrape.com/catalogue{link[8:]}\"\n",
        "    print(f\"Title: {title}\\nLink: {full_link}\\n\")\n"
      ],
      "metadata": {
        "colab": {
          "base_uri": "https://localhost:8080/"
        },
        "id": "K20DIGhDuenf",
        "outputId": "6293a08b-1855-4b4a-a46d-854b73e92c91"
      },
      "execution_count": null,
      "outputs": [
        {
          "output_type": "stream",
          "name": "stdout",
          "text": [
            "Title: A Light in the Attic\n",
            "Link: https://books.toscrape.com/cataloguee/a-light-in-the-attic_1000/index.html\n",
            "\n",
            "Title: Tipping the Velvet\n",
            "Link: https://books.toscrape.com/cataloguee/tipping-the-velvet_999/index.html\n",
            "\n",
            "Title: Soumission\n",
            "Link: https://books.toscrape.com/cataloguee/soumission_998/index.html\n",
            "\n",
            "Title: Sharp Objects\n",
            "Link: https://books.toscrape.com/cataloguee/sharp-objects_997/index.html\n",
            "\n",
            "Title: Sapiens: A Brief History of Humankind\n",
            "Link: https://books.toscrape.com/cataloguee/sapiens-a-brief-history-of-humankind_996/index.html\n",
            "\n",
            "Title: The Requiem Red\n",
            "Link: https://books.toscrape.com/cataloguee/the-requiem-red_995/index.html\n",
            "\n",
            "Title: The Dirty Little Secrets of Getting Your Dream Job\n",
            "Link: https://books.toscrape.com/cataloguee/the-dirty-little-secrets-of-getting-your-dream-job_994/index.html\n",
            "\n",
            "Title: The Coming Woman: A Novel Based on the Life of the Infamous Feminist, Victoria Woodhull\n",
            "Link: https://books.toscrape.com/cataloguee/the-coming-woman-a-novel-based-on-the-life-of-the-infamous-feminist-victoria-woodhull_993/index.html\n",
            "\n",
            "Title: The Boys in the Boat: Nine Americans and Their Epic Quest for Gold at the 1936 Berlin Olympics\n",
            "Link: https://books.toscrape.com/cataloguee/the-boys-in-the-boat-nine-americans-and-their-epic-quest-for-gold-at-the-1936-berlin-olympics_992/index.html\n",
            "\n",
            "Title: The Black Maria\n",
            "Link: https://books.toscrape.com/cataloguee/the-black-maria_991/index.html\n",
            "\n",
            "Title: Starving Hearts (Triangular Trade Trilogy, #1)\n",
            "Link: https://books.toscrape.com/cataloguee/starving-hearts-triangular-trade-trilogy-1_990/index.html\n",
            "\n",
            "Title: Shakespeare's Sonnets\n",
            "Link: https://books.toscrape.com/cataloguee/shakespeares-sonnets_989/index.html\n",
            "\n",
            "Title: Set Me Free\n",
            "Link: https://books.toscrape.com/cataloguee/set-me-free_988/index.html\n",
            "\n",
            "Title: Scott Pilgrim's Precious Little Life (Scott Pilgrim #1)\n",
            "Link: https://books.toscrape.com/cataloguee/scott-pilgrims-precious-little-life-scott-pilgrim-1_987/index.html\n",
            "\n",
            "Title: Rip it Up and Start Again\n",
            "Link: https://books.toscrape.com/cataloguee/rip-it-up-and-start-again_986/index.html\n",
            "\n",
            "Title: Our Band Could Be Your Life: Scenes from the American Indie Underground, 1981-1991\n",
            "Link: https://books.toscrape.com/cataloguee/our-band-could-be-your-life-scenes-from-the-american-indie-underground-1981-1991_985/index.html\n",
            "\n",
            "Title: Olio\n",
            "Link: https://books.toscrape.com/cataloguee/olio_984/index.html\n",
            "\n",
            "Title: Mesaerion: The Best Science Fiction Stories 1800-1849\n",
            "Link: https://books.toscrape.com/cataloguee/mesaerion-the-best-science-fiction-stories-1800-1849_983/index.html\n",
            "\n",
            "Title: Libertarianism for Beginners\n",
            "Link: https://books.toscrape.com/cataloguee/libertarianism-for-beginners_982/index.html\n",
            "\n",
            "Title: It's Only the Himalayas\n",
            "Link: https://books.toscrape.com/cataloguee/its-only-the-himalayas_981/index.html\n",
            "\n"
          ]
        }
      ]
    },
    {
      "cell_type": "code",
      "source": [
        "import requests\n",
        "from bs4 import BeautifulSoup\n",
        "import csv\n",
        "\n",
        "# Send a GET request to the website\n",
        "url = \"https://books.toscrape.com/\"\n",
        "response = requests.get(url)\n",
        "soup = BeautifulSoup(response.content, 'html.parser')\n",
        "\n",
        "# Find all book titles and links\n",
        "books = soup.find_all('h3')\n",
        "\n",
        "# Create a CSV file and write headers\n",
        "with open('book_data.csv', mode='w', newline='', encoding='utf-8') as csv_file:\n",
        "    fieldnames = ['Title', 'Link']\n",
        "    writer = csv.DictWriter(csv_file, fieldnames=fieldnames)\n",
        "    writer.writeheader()\n",
        "\n",
        "    # Write data to CSV\n",
        "    for book in books:\n",
        "        title = book.a.attrs['title']\n",
        "        link = book.a['href']\n",
        "        full_link = f\"https://books.toscrape.com/catalogue{link[8:]}\"\n",
        "        writer.writerow({'Title': title, 'Link': full_link})\n",
        "\n",
        "print(\"Data has been exported to book_data.csv\")\n"
      ],
      "metadata": {
        "colab": {
          "base_uri": "https://localhost:8080/"
        },
        "id": "pFF62yxrueil",
        "outputId": "37ef91ac-9823-4a92-9744-b83fb7717fa0"
      },
      "execution_count": null,
      "outputs": [
        {
          "output_type": "stream",
          "name": "stdout",
          "text": [
            "Data has been exported to book_data.csv\n"
          ]
        }
      ]
    }
  ]
}